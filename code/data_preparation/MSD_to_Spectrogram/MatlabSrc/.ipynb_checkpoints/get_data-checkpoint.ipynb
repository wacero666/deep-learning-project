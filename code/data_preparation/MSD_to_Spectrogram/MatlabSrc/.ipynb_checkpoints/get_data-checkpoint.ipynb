{
 "cells": [
  {
   "cell_type": "code",
   "execution_count": 26,
   "metadata": {},
   "outputs": [
    {
     "name": "stdout",
     "output_type": "stream",
     "text": [
      "ENTimbreTJ.mat           en_recons_env.m          msd_pathname.m\r\n",
      "HDF5_Song_File_Reader.m  en_resynth.m             msd_sql.m\r\n",
      "\u001b[34mPythonSrc\u001b[m\u001b[m/               en_song2track.m          msd_sql_full.m\r\n",
      "Untitled.ipynb           fft2jbarkmx.m            p_json.m\r\n",
      "chrompeaks.m             findAllFiles.m           resample_mx.m\r\n",
      "chromsynth2.m            get_data.ipynb           tutorial_dpwe.m\r\n",
      "colinterp.m              hdf5_to_matfile.m        urlpostdata.m\r\n",
      "en_analyze.m             ispecgram.m              urlreadpost.m\r\n",
      "en_analyze_msd.m         msd_beatchroma.m         urlreadwrite.m\r\n",
      "en_mfcc.m                msd_load_preview.m\r\n"
     ]
    }
   ],
   "source": [
    "ls "
   ]
  },
  {
   "cell_type": "code",
   "execution_count": 17,
   "metadata": {
    "scrolled": true
   },
   "outputs": [],
   "source": [
    "import matlab.engine\n",
    "eng = matlab.engine.start_matlab()"
   ]
  },
  {
   "cell_type": "code",
   "execution_count": 18,
   "metadata": {},
   "outputs": [],
   "source": [
    "# def en_resynth(A,dur,sr, donoise=0):\n",
    "#     C = g.get_segments_pitches(A)\n",
    "# #     print(pitches)\n",
    "# #     fd = g.get_start_of_fade_out(h5)\n",
    "# #     segment = g.get_segments_start(h5)\n",
    "# #     segmentduration = np.max(np.diff([segment, fd]), 0)\n",
    "#     beattimes = g.get_segments_start(A)\n",
    "#     nchr, nbeats = C.shape\n",
    "#     if dur > 0:\n",
    "#         nbeats = np.sum(beattimes <= dur)\n",
    "#         beattimes = beattimes[1:nbeats]\n",
    "#         C = C[:,1:nbeats]\n",
    "#     dowt = 0\n",
    "#     maxnpitch = 6\n",
    "#     eng.chromsynth2(C,beattimes,sr,0,maxnpitch)\n",
    "    "
   ]
  },
  {
   "cell_type": "code",
   "execution_count": 35,
   "metadata": {},
   "outputs": [
    {
     "ename": "MatlabExecutionError",
     "evalue": "\n  File /Users/wanhezhao/707project/AWS_code/MSongsDB/MatlabSrc/en_resynth.m, line 58, in en_resynth\nUndefined function 'specgram' for input arguments of type 'double'.\n",
     "output_type": "error",
     "traceback": [
      "\u001b[0;31m-----------------------------------------------------------------------\u001b[0m",
      "\u001b[0;31mMatlabExecutionError\u001b[0m                  Traceback (most recent call last)",
      "\u001b[0;32m<ipython-input-35-71703d6beba1>\u001b[0m in \u001b[0;36m<module>\u001b[0;34m\u001b[0m\n\u001b[1;32m     13\u001b[0m     \u001b[0mdur\u001b[0m \u001b[0;34m=\u001b[0m \u001b[0;36m60\u001b[0m\u001b[0;34m\u001b[0m\u001b[0;34m\u001b[0m\u001b[0m\n\u001b[1;32m     14\u001b[0m     \u001b[0mh5\u001b[0m \u001b[0;34m=\u001b[0m \u001b[0meng\u001b[0m\u001b[0;34m.\u001b[0m\u001b[0mHDF5_Song_File_Reader\u001b[0m\u001b[0;34m(\u001b[0m\u001b[0mf\u001b[0m\u001b[0;34m)\u001b[0m\u001b[0;34m\u001b[0m\u001b[0;34m\u001b[0m\u001b[0m\n\u001b[0;32m---> 15\u001b[0;31m     \u001b[0mx\u001b[0m \u001b[0;34m=\u001b[0m \u001b[0meng\u001b[0m\u001b[0;34m.\u001b[0m\u001b[0men_resynth\u001b[0m\u001b[0;34m(\u001b[0m\u001b[0mh5\u001b[0m\u001b[0;34m,\u001b[0m \u001b[0mdur\u001b[0m\u001b[0;34m)\u001b[0m\u001b[0;34m\u001b[0m\u001b[0;34m\u001b[0m\u001b[0m\n\u001b[0m\u001b[1;32m     16\u001b[0m     \u001b[0;31m#eng.en_resynth(h5, dur, sr)\u001b[0m\u001b[0;34m\u001b[0m\u001b[0;34m\u001b[0m\u001b[0;34m\u001b[0m\u001b[0m\n\u001b[1;32m     17\u001b[0m \u001b[0;31m#     song_idss = g.get_song_id(h5)\u001b[0m\u001b[0;34m\u001b[0m\u001b[0;34m\u001b[0m\u001b[0;34m\u001b[0m\u001b[0m\n",
      "\u001b[0;32m~/anaconda3/lib/python3.7/site-packages/matlab/engine/matlabengine.py\u001b[0m in \u001b[0;36m__call__\u001b[0;34m(self, *args, **kwargs)\u001b[0m\n\u001b[1;32m     69\u001b[0m         \u001b[0;32melse\u001b[0m\u001b[0;34m:\u001b[0m\u001b[0;34m\u001b[0m\u001b[0;34m\u001b[0m\u001b[0m\n\u001b[1;32m     70\u001b[0m             return FutureResult(self._engine(), future, nargs, _stdout,\n\u001b[0;32m---> 71\u001b[0;31m                                 _stderr, feval=True).result()\n\u001b[0m\u001b[1;32m     72\u001b[0m \u001b[0;34m\u001b[0m\u001b[0m\n\u001b[1;32m     73\u001b[0m     \u001b[0;32mdef\u001b[0m \u001b[0m__validate_engine\u001b[0m\u001b[0;34m(\u001b[0m\u001b[0mself\u001b[0m\u001b[0;34m)\u001b[0m\u001b[0;34m:\u001b[0m\u001b[0;34m\u001b[0m\u001b[0;34m\u001b[0m\u001b[0m\n",
      "\u001b[0;32m~/anaconda3/lib/python3.7/site-packages/matlab/engine/futureresult.py\u001b[0m in \u001b[0;36mresult\u001b[0;34m(self, timeout)\u001b[0m\n\u001b[1;32m     65\u001b[0m                 \u001b[0;32mraise\u001b[0m \u001b[0mTypeError\u001b[0m\u001b[0;34m(\u001b[0m\u001b[0mpythonengine\u001b[0m\u001b[0;34m.\u001b[0m\u001b[0mgetMessage\u001b[0m\u001b[0;34m(\u001b[0m\u001b[0;34m'TimeoutCannotBeNegative'\u001b[0m\u001b[0;34m)\u001b[0m\u001b[0;34m)\u001b[0m\u001b[0;34m\u001b[0m\u001b[0;34m\u001b[0m\u001b[0m\n\u001b[1;32m     66\u001b[0m \u001b[0;34m\u001b[0m\u001b[0m\n\u001b[0;32m---> 67\u001b[0;31m         \u001b[0;32mreturn\u001b[0m \u001b[0mself\u001b[0m\u001b[0;34m.\u001b[0m\u001b[0m__future\u001b[0m\u001b[0;34m.\u001b[0m\u001b[0mresult\u001b[0m\u001b[0;34m(\u001b[0m\u001b[0mtimeout\u001b[0m\u001b[0;34m)\u001b[0m\u001b[0;34m\u001b[0m\u001b[0;34m\u001b[0m\u001b[0m\n\u001b[0m\u001b[1;32m     68\u001b[0m \u001b[0;34m\u001b[0m\u001b[0m\n\u001b[1;32m     69\u001b[0m     \u001b[0;32mdef\u001b[0m \u001b[0mcancel\u001b[0m\u001b[0;34m(\u001b[0m\u001b[0mself\u001b[0m\u001b[0;34m)\u001b[0m\u001b[0;34m:\u001b[0m\u001b[0;34m\u001b[0m\u001b[0;34m\u001b[0m\u001b[0m\n",
      "\u001b[0;32m~/anaconda3/lib/python3.7/site-packages/matlab/engine/fevalfuture.py\u001b[0m in \u001b[0;36mresult\u001b[0;34m(self, timeout)\u001b[0m\n\u001b[1;32m     80\u001b[0m                 \u001b[0;32mraise\u001b[0m \u001b[0mTimeoutError\u001b[0m\u001b[0;34m(\u001b[0m\u001b[0mpythonengine\u001b[0m\u001b[0;34m.\u001b[0m\u001b[0mgetMessage\u001b[0m\u001b[0;34m(\u001b[0m\u001b[0;34m'MatlabFunctionTimeout'\u001b[0m\u001b[0;34m)\u001b[0m\u001b[0;34m)\u001b[0m\u001b[0;34m\u001b[0m\u001b[0;34m\u001b[0m\u001b[0m\n\u001b[1;32m     81\u001b[0m \u001b[0;34m\u001b[0m\u001b[0m\n\u001b[0;32m---> 82\u001b[0;31m             \u001b[0mself\u001b[0m\u001b[0;34m.\u001b[0m\u001b[0m_result\u001b[0m \u001b[0;34m=\u001b[0m \u001b[0mpythonengine\u001b[0m\u001b[0;34m.\u001b[0m\u001b[0mgetFEvalResult\u001b[0m\u001b[0;34m(\u001b[0m\u001b[0mself\u001b[0m\u001b[0;34m.\u001b[0m\u001b[0m_future\u001b[0m\u001b[0;34m,\u001b[0m\u001b[0mself\u001b[0m\u001b[0;34m.\u001b[0m\u001b[0m_nargout\u001b[0m\u001b[0;34m,\u001b[0m \u001b[0;32mNone\u001b[0m\u001b[0;34m,\u001b[0m \u001b[0mout\u001b[0m\u001b[0;34m=\u001b[0m\u001b[0mself\u001b[0m\u001b[0;34m.\u001b[0m\u001b[0m_out\u001b[0m\u001b[0;34m,\u001b[0m \u001b[0merr\u001b[0m\u001b[0;34m=\u001b[0m\u001b[0mself\u001b[0m\u001b[0;34m.\u001b[0m\u001b[0m_err\u001b[0m\u001b[0;34m)\u001b[0m\u001b[0;34m\u001b[0m\u001b[0;34m\u001b[0m\u001b[0m\n\u001b[0m\u001b[1;32m     83\u001b[0m             \u001b[0mself\u001b[0m\u001b[0;34m.\u001b[0m\u001b[0m_retrieved\u001b[0m \u001b[0;34m=\u001b[0m \u001b[0;32mTrue\u001b[0m\u001b[0;34m\u001b[0m\u001b[0;34m\u001b[0m\u001b[0m\n\u001b[1;32m     84\u001b[0m             \u001b[0;32mreturn\u001b[0m \u001b[0mself\u001b[0m\u001b[0;34m.\u001b[0m\u001b[0m_result\u001b[0m\u001b[0;34m\u001b[0m\u001b[0;34m\u001b[0m\u001b[0m\n",
      "\u001b[0;31mMatlabExecutionError\u001b[0m: \n  File /Users/wanhezhao/707project/AWS_code/MSongsDB/MatlabSrc/en_resynth.m, line 58, in en_resynth\nUndefined function 'specgram' for input arguments of type 'double'.\n"
     ]
    }
   ],
   "source": [
    "import glob\n",
    "files = glob.glob('MillionSongSubset/data/*/*/*/*.h5')\n",
    "\n",
    "import PythonSrc.hdf5_utils as HDF5\n",
    "import PythonSrc.hdf5_getters as g\n",
    "import numpy as np\n",
    "i = 0\n",
    "import tables\n",
    "\n",
    "for f in files:\n",
    "#     h5 = tables.open_file(f, mode='r')\n",
    "    sr = 16000\n",
    "    dur = 60\n",
    "    h5 = eng.HDF5_Song_File_Reader(f)\n",
    "    x = eng.en_resynth(h5, dur)\n",
    "    #eng.en_resynth(h5, dur, sr)\n",
    "#     song_idss = g.get_song_id(h5)\n",
    "#     print(song_idss)\n",
    "#     song_title = g.get_title(h5)\n",
    "#     print(song_title)\n",
    "    i += 1\n",
    "    print(i)\n",
    "    if (i >2):\n",
    "        break\n",
    "    "
   ]
  },
  {
   "cell_type": "code",
   "execution_count": 25,
   "metadata": {},
   "outputs": [
    {
     "data": {
      "text/plain": [
       "'MillionSongSubset/data/A/R/R/TRARRZU128F4253CA2.h5'"
      ]
     },
     "execution_count": 25,
     "metadata": {},
     "output_type": "execute_result"
    }
   ],
   "source": [
    "files[0]"
   ]
  },
  {
   "cell_type": "code",
   "execution_count": 35,
   "metadata": {},
   "outputs": [
    {
     "data": {
      "text/plain": [
       "array([ 1.4160700e+02,  1.4141512e+02,  1.4100201e+02,  1.4075761e+02,\n",
       "        1.4050682e+02,  1.4024373e+02,  1.4011267e+02,  1.4001893e+02,\n",
       "        1.3955444e+02,  1.3927666e+02,  1.3907820e+02,  1.3879534e+02,\n",
       "        1.3859784e+02,  1.3830691e+02,  1.3812464e+02,  1.3784759e+02,\n",
       "        1.3761584e+02,  1.3746174e+02,  1.3735462e+02,  1.3714373e+02,\n",
       "        1.3687580e+02,  1.3663725e+02,  1.3639262e+02,  1.3614754e+02,\n",
       "        1.3590791e+02,  1.3568110e+02,  1.3543525e+02,  1.3520432e+02,\n",
       "        1.3494972e+02,  1.3472237e+02,  1.3443562e+02,  1.3422659e+02,\n",
       "        1.3400142e+02,  1.3373866e+02,  1.3329172e+02,  1.3301163e+02,\n",
       "        1.3278587e+02,  1.3256909e+02,  1.3235739e+02,  1.3203743e+02,\n",
       "        1.3156723e+02,  1.3140559e+02,  1.3109494e+02,  1.3059008e+02,\n",
       "        1.3019625e+02,  1.2988042e+02,  1.2963104e+02,  1.2938959e+02,\n",
       "        1.2914192e+02,  1.2892079e+02,  1.2869725e+02,  1.2860437e+02,\n",
       "        1.2844419e+02,  1.2820029e+02,  1.2796169e+02,  1.2745235e+02,\n",
       "        1.2722396e+02,  1.2702228e+02,  1.2670246e+02,  1.2650727e+02,\n",
       "        1.2624174e+02,  1.2600405e+02,  1.2577575e+02,  1.2552197e+02,\n",
       "        1.2526582e+02,  1.2505407e+02,  1.2480868e+02,  1.2473426e+02,\n",
       "        1.2457802e+02,  1.2436718e+02,  1.2423040e+02,  1.2394142e+02,\n",
       "        1.2360568e+02,  1.2312732e+02,  1.2301807e+02,  1.2290596e+02,\n",
       "        1.2262378e+02,  1.2215566e+02,  1.2185897e+02,  1.2165067e+02,\n",
       "        1.2137217e+02,  1.2117598e+02,  1.2068260e+02,  1.2046510e+02,\n",
       "        1.2022070e+02,  1.2000296e+02,  1.1981816e+02,  1.1953394e+02,\n",
       "        1.1923757e+02,  1.1899602e+02,  1.1877317e+02,  1.1850006e+02,\n",
       "        1.1828142e+02,  1.1801897e+02,  1.1779262e+02,  1.1757045e+02,\n",
       "        1.1731757e+02,  1.1705911e+02,  1.1681866e+02,  1.1658977e+02,\n",
       "        1.1648777e+02,  1.1635244e+02,  1.1607126e+02,  1.1588863e+02,\n",
       "        1.1561312e+02,  1.1515008e+02,  1.1496514e+02,  1.1476841e+02,\n",
       "        1.1461407e+02,  1.1438959e+02,  1.1415398e+02,  1.1390147e+02,\n",
       "        1.1365566e+02,  1.1342959e+02,  1.1317067e+02,  1.1295512e+02,\n",
       "        1.1270151e+02,  1.1256287e+02,  1.1241947e+02,  1.1223104e+02,\n",
       "        1.1173530e+02,  1.1148836e+02,  1.1128020e+02,  1.1099947e+02,\n",
       "        1.1074845e+02,  1.1051897e+02,  1.1026686e+02,  1.1003358e+02,\n",
       "        1.0976741e+02,  1.0955593e+02,  1.0908673e+02,  1.0882364e+02,\n",
       "        1.0867485e+02,  1.0854346e+02,  1.0839326e+02,  1.0822451e+02,\n",
       "        1.0782006e+02,  1.0773185e+02,  1.0747607e+02,  1.0722800e+02,\n",
       "        1.0703176e+02,  1.0673476e+02,  1.0640559e+02,  1.0615834e+02,\n",
       "        1.0593466e+02,  1.0568822e+02,  1.0521580e+02,  1.0497802e+02,\n",
       "        1.0484532e+02,  1.0475961e+02,  1.0446913e+02,  1.0427906e+02,\n",
       "        1.0410192e+02,  1.0377013e+02,  1.0355176e+02,  1.0328423e+02,\n",
       "        1.0300237e+02,  1.0279376e+02,  1.0254133e+02,  1.0229888e+02,\n",
       "        1.0205861e+02,  1.0180614e+02,  1.0083544e+02,  1.0057444e+02,\n",
       "        1.0036546e+02,  1.0009816e+02,  9.9878560e+01,  9.9413760e+01,\n",
       "        9.9145500e+01,  9.9071080e+01,  9.8908410e+01,  9.8802370e+01,\n",
       "        9.8450360e+01,  9.8269680e+01,  9.8105280e+01,  9.7968360e+01,\n",
       "        9.7810990e+01,  9.7665910e+01,  9.7239930e+01,  9.7016890e+01,\n",
       "        9.6760830e+01,  9.6481380e+01,  9.6253850e+01,  9.6010310e+01,\n",
       "        9.5757700e+01,  9.5525230e+01,  9.5291760e+01,  9.5193350e+01,\n",
       "        9.4835480e+01,  9.4566910e+01,  9.4495210e+01,  9.4066950e+01,\n",
       "        9.3833760e+01,  9.3591310e+01,  9.3394620e+01,  9.3102870e+01,\n",
       "        9.2843920e+01,  9.2605320e+01,  9.2374480e+01,  9.2129810e+01,\n",
       "        9.1880420e+01,  9.1643780e+01,  9.1409810e+01,  9.1160380e+01,\n",
       "        9.0934120e+01,  9.0626730e+01,  9.0347360e+01,  9.0049770e+01,\n",
       "        8.9759340e+01,  8.9548180e+01,  8.9219380e+01,  8.8974300e+01,\n",
       "        8.8754030e+01,  8.8506230e+01,  8.8266500e+01,  8.8034390e+01,\n",
       "        8.7879240e+01,  8.7774440e+01,  8.7552400e+01,  8.7368630e+01,\n",
       "        8.7095300e+01,  8.6711990e+01,  8.6566730e+01,  8.6344960e+01,\n",
       "        8.6198790e+01,  8.6061920e+01,  8.5958160e+01,  8.5847410e+01,\n",
       "        8.5359700e+01,  8.5109220e+01,  8.4872710e+01,  8.4634660e+01,\n",
       "        8.4391540e+01,  8.4139060e+01,  8.3912350e+01,  8.3695210e+01,\n",
       "        8.3601290e+01,  8.3421560e+01,  8.3274850e+01,  8.2601600e+01,\n",
       "        8.2451310e+01,  8.2214210e+01,  8.2009310e+01,  8.1783510e+01,\n",
       "        8.1646000e+01,  8.1243280e+01,  8.1029040e+01,  8.0752990e+01,\n",
       "        8.0533670e+01,  8.0267730e+01,  8.0036660e+01,  7.9814940e+01,\n",
       "        7.9692030e+01,  7.9554760e+01,  7.9312760e+01,  7.9164870e+01,\n",
       "        7.9072800e+01,  7.8596610e+01,  7.8376160e+01,  7.8109220e+01,\n",
       "        7.7853030e+01,  7.7620290e+01,  7.7395440e+01,  7.7145820e+01,\n",
       "        7.6863010e+01,  7.6649990e+01,  7.6422690e+01,  7.6171940e+01,\n",
       "        7.5759830e+01,  7.5699470e+01,  7.5522600e+01,  7.5312120e+01,\n",
       "        7.5189360e+01,  7.5001420e+01,  7.4710810e+01,  7.4476250e+01,\n",
       "        7.4248180e+01,  7.4011310e+01,  7.3738110e+01,  7.3447630e+01,\n",
       "        7.3267910e+01,  7.3006590e+01,  7.2775390e+01,  7.2496250e+01,\n",
       "        7.2293260e+01,  7.1961740e+01,  7.1618840e+01,  7.1322240e+01,\n",
       "        7.1066820e+01,  7.0829310e+01,  7.0618840e+01,  7.0353580e+01,\n",
       "        6.9889490e+01,  6.9598380e+01,  6.9381380e+01,  6.9129990e+01,\n",
       "        6.8907630e+01,  6.8421060e+01,  6.7949900e+01,  6.7689000e+01,\n",
       "        6.7422100e+01,  6.7201330e+01,  6.7080200e+01,  6.6969450e+01,\n",
       "        6.6766770e+01,  6.6503690e+01,  6.6378110e+01,  6.5988360e+01,\n",
       "        6.5800650e+01,  6.5262510e+01,  6.5036480e+01,  6.4537070e+01,\n",
       "        6.4060610e+01,  6.3805550e+01,  6.3575070e+01,  6.3329900e+01,\n",
       "        6.3097480e+01,  6.2622560e+01,  6.2405190e+01,  6.2139610e+01,\n",
       "        6.2003870e+01,  6.1884010e+01,  6.1651540e+01,  6.1404100e+01,\n",
       "        6.1187050e+01,  6.0914390e+01,  6.0676480e+01,  6.0463050e+01,\n",
       "        6.0357340e+01,  6.0212490e+01,  6.0049310e+01,  5.9935480e+01,\n",
       "        5.9775840e+01,  5.9448180e+01,  5.9226090e+01,  5.8744230e+01,\n",
       "        5.8361100e+01,  5.8250170e+01,  5.8013980e+01,  5.7774890e+01,\n",
       "        5.7505960e+01,  5.7293030e+01,  5.7018560e+01,  5.6809770e+01,\n",
       "        5.6547630e+01,  5.6403920e+01,  5.6197980e+01,  5.6073170e+01,\n",
       "        5.5888630e+01,  5.5542870e+01,  5.5360240e+01,  5.5132350e+01,\n",
       "        5.4925640e+01,  5.4822190e+01,  5.4388090e+01,  5.4140380e+01,\n",
       "        5.3896340e+01,  5.3638700e+01,  5.3419740e+01,  5.3156930e+01,\n",
       "        5.2973120e+01,  5.2556070e+01,  5.2279060e+01,  5.2125460e+01,\n",
       "        5.1532260e+01,  5.1295440e+01,  5.1133670e+01,  5.0504460e+01,\n",
       "        5.0264550e+01,  5.0017570e+01,  4.9780700e+01,  4.9583460e+01,\n",
       "        4.9303010e+01,  4.9170720e+01,  4.8796250e+01,  4.8671670e+01,\n",
       "        4.8475030e+01,  4.8342780e+01,  4.7828590e+01,  4.7620880e+01,\n",
       "        4.7133980e+01,  4.6880200e+01,  4.6646230e+01,  4.6434350e+01,\n",
       "        4.6164050e+01,  4.5958290e+01,  4.5763330e+01,  4.5675390e+01,\n",
       "        4.5449090e+01,  4.5272120e+01,  4.4951540e+01,  4.4822740e+01,\n",
       "        4.4728360e+01,  4.4387090e+01,  4.4224960e+01,  4.3743420e+01,\n",
       "        4.3511670e+01,  4.2999880e+01,  4.2756250e+01,  4.2580880e+01,\n",
       "        4.2296430e+01,  4.1829680e+01,  4.1373710e+01,  4.0852850e+01,\n",
       "        4.0608950e+01,  4.0359560e+01,  4.0108450e+01,  3.9890400e+01,\n",
       "        3.9629720e+01,  3.9393580e+01,  3.9097700e+01,  3.8913940e+01,\n",
       "        3.8626460e+01,  3.8438340e+01,  3.8169360e+01,  3.7950220e+01,\n",
       "        3.7526550e+01,  3.7462280e+01,  3.7290080e+01,  3.7206730e+01,\n",
       "        3.7050720e+01,  3.6820420e+01,  3.6574350e+01,  3.6261560e+01,\n",
       "        3.6040150e+01,  3.5802240e+01,  3.5351760e+01,  3.5135300e+01,\n",
       "        3.4785100e+01,  3.4548630e+01,  3.4299060e+01,  3.4061420e+01,\n",
       "        3.3806500e+01,  3.3584140e+01,  3.3355300e+01,  3.3109630e+01,\n",
       "        3.2871130e+01,  3.2811080e+01,  3.2337020e+01,  3.2112350e+01,\n",
       "        3.1913580e+01,  3.1849040e+01,  3.1637700e+01,  3.1338930e+01,\n",
       "        3.1142600e+01,  3.0914710e+01,  3.0671040e+01,  3.0212260e+01,\n",
       "        2.9765100e+01,  2.9480970e+01,  2.9410670e+01,  2.9242560e+01,\n",
       "        2.8962740e+01,  2.8500150e+01,  2.8250170e+01,  2.8044140e+01,\n",
       "        2.7820420e+01,  2.7274620e+01,  2.7011900e+01,  2.6542150e+01,\n",
       "        2.6357110e+01,  2.6066370e+01,  2.5904820e+01,  2.5818160e+01,\n",
       "        2.5342060e+01,  2.5098290e+01,  2.4854710e+01,  2.4622280e+01,\n",
       "        2.4373030e+01,  2.4122420e+01,  2.3889680e+01,  2.3801060e+01,\n",
       "        2.3629220e+01,  2.3426370e+01,  2.3159830e+01,  2.2949590e+01,\n",
       "        2.2717660e+01,  2.2434030e+01,  2.2189360e+01,  2.1950810e+01,\n",
       "        2.1711850e+01,  2.1527050e+01,  2.1226230e+01,  2.0739020e+01,\n",
       "        2.0524510e+01,  2.0250850e+01,  2.0088450e+01,  1.9525590e+01,\n",
       "        1.9299520e+01,  1.8579060e+01,  1.8310170e+01,  1.7836480e+01,\n",
       "        1.7602780e+01,  1.7360110e+01,  1.7122240e+01,  1.6876610e+01,\n",
       "        1.6640970e+01,  1.6146640e+01,  1.5904780e+01,  1.5670850e+01,\n",
       "        1.5421100e+01,  1.5171220e+01,  1.4962370e+01,  1.4701240e+01,\n",
       "        1.4600650e+01,  1.4341690e+01,  1.4051040e+01,  1.3857160e+01,\n",
       "        1.3755570e+01,  1.3273350e+01,  1.3015930e+01,  1.2833670e+01,\n",
       "        1.2421150e+01,  1.2291850e+01,  1.2060470e+01,  1.1816800e+01,\n",
       "        1.1577790e+01,  1.1362870e+01,  1.1087770e+01,  1.0848360e+01,\n",
       "        1.0591040e+01,  1.0348770e+01,  1.0092440e+01,  9.8825600e+00,\n",
       "        9.6304900e+00,  9.1538500e+00,  8.9073600e+00,  8.6469500e+00,\n",
       "        8.4260500e+00,  7.9322200e+00,  7.6888600e+00,  7.4687200e+00,\n",
       "        7.2883600e+00,  7.2011500e+00,  6.9921700e+00,  6.7311700e+00,\n",
       "        6.4723500e+00,  5.9886300e+00,  5.7452300e+00,  5.3001500e+00,\n",
       "        5.0188800e+00,  4.5423300e+00,  4.2812000e+00,  4.0891300e+00,\n",
       "        3.7820600e+00,  3.6022400e+00,  3.3266400e+00,  3.1072700e+00,\n",
       "        2.8539800e+00,  2.7111700e+00,  2.4926200e+00,  2.3469100e+00,\n",
       "        2.1222800e+00,  1.8721700e+00,  1.6223700e+00,  1.3534400e+00,\n",
       "        1.1354800e+00,  9.2627000e-01,  6.1276000e-01,  3.2080000e-02,\n",
       "       -2.4670000e-01, -5.6574000e-01])"
      ]
     },
     "execution_count": 35,
     "metadata": {},
     "output_type": "execute_result"
    }
   ],
   "source": [
    "np.max(np.diff([segment, fd]), 0)"
   ]
  },
  {
   "cell_type": "code",
   "execution_count": 59,
   "metadata": {},
   "outputs": [
    {
     "ename": "TypeError",
     "evalue": "expected str, bytes or os.PathLike object, not NoneType",
     "output_type": "error",
     "traceback": [
      "\u001b[0;31m-----------------------------------------------------------------------\u001b[0m",
      "\u001b[0;31mTypeError\u001b[0m                             Traceback (most recent call last)",
      "\u001b[0;32m<ipython-input-59-873bbb47e0f6>\u001b[0m in \u001b[0;36m<module>\u001b[0;34m\u001b[0m\n\u001b[1;32m      2\u001b[0m \u001b[0;32mimport\u001b[0m \u001b[0mpymatlab\u001b[0m\u001b[0;34m\u001b[0m\u001b[0;34m\u001b[0m\u001b[0m\n\u001b[1;32m      3\u001b[0m \u001b[0mpth\u001b[0m \u001b[0;34m=\u001b[0m \u001b[0;34m'SongsDB/MatlabSrc/chromsynth2.m'\u001b[0m\u001b[0;34m\u001b[0m\u001b[0;34m\u001b[0m\u001b[0m\n\u001b[0;32m----> 4\u001b[0;31m \u001b[0msession\u001b[0m \u001b[0;34m=\u001b[0m \u001b[0mpymatlab\u001b[0m\u001b[0;34m.\u001b[0m\u001b[0msession_factory\u001b[0m\u001b[0;34m(\u001b[0m\u001b[0mpth\u001b[0m\u001b[0;34m)\u001b[0m\u001b[0;34m\u001b[0m\u001b[0;34m\u001b[0m\u001b[0m\n\u001b[0m",
      "\u001b[0;32m~/anaconda3/lib/python3.7/site-packages/pymatlab/sessionfactory.py\u001b[0m in \u001b[0;36msession_factory\u001b[0;34m(options, output_buffer_size)\u001b[0m\n\u001b[1;32m     36\u001b[0m                 \u001b[0mpath\u001b[0m \u001b[0;34m=\u001b[0m \u001b[0mcandidate\u001b[0m\u001b[0;34m\u001b[0m\u001b[0;34m\u001b[0m\u001b[0m\n\u001b[1;32m     37\u001b[0m                 \u001b[0;32mbreak\u001b[0m\u001b[0;34m\u001b[0m\u001b[0;34m\u001b[0m\u001b[0m\n\u001b[0;32m---> 38\u001b[0;31m         \u001b[0mexecutable\u001b[0m \u001b[0;34m=\u001b[0m \u001b[0mos\u001b[0m\u001b[0;34m.\u001b[0m\u001b[0mpath\u001b[0m\u001b[0;34m.\u001b[0m\u001b[0mrealpath\u001b[0m\u001b[0;34m(\u001b[0m\u001b[0mpath\u001b[0m\u001b[0;34m)\u001b[0m\u001b[0;34m\u001b[0m\u001b[0;34m\u001b[0m\u001b[0m\n\u001b[0m\u001b[1;32m     39\u001b[0m         \u001b[0mbasedir\u001b[0m \u001b[0;34m=\u001b[0m \u001b[0mos\u001b[0m\u001b[0;34m.\u001b[0m\u001b[0mpath\u001b[0m\u001b[0;34m.\u001b[0m\u001b[0mdirname\u001b[0m\u001b[0;34m(\u001b[0m\u001b[0mos\u001b[0m\u001b[0;34m.\u001b[0m\u001b[0mpath\u001b[0m\u001b[0;34m.\u001b[0m\u001b[0mdirname\u001b[0m\u001b[0;34m(\u001b[0m\u001b[0mexecutable\u001b[0m\u001b[0;34m)\u001b[0m\u001b[0;34m)\u001b[0m\u001b[0;34m\u001b[0m\u001b[0;34m\u001b[0m\u001b[0m\n\u001b[1;32m     40\u001b[0m         \u001b[0mexec_and_options\u001b[0m \u001b[0;34m=\u001b[0m \u001b[0;34m\" \"\u001b[0m\u001b[0;34m.\u001b[0m\u001b[0mjoin\u001b[0m\u001b[0;34m(\u001b[0m\u001b[0;34m[\u001b[0m\u001b[0mexecutable\u001b[0m\u001b[0;34m,\u001b[0m\u001b[0moptions\u001b[0m\u001b[0;34m]\u001b[0m\u001b[0;34m)\u001b[0m\u001b[0;34m\u001b[0m\u001b[0;34m\u001b[0m\u001b[0m\n",
      "\u001b[0;32m~/anaconda3/lib/python3.7/posixpath.py\u001b[0m in \u001b[0;36mrealpath\u001b[0;34m(filename)\u001b[0m\n\u001b[1;32m    392\u001b[0m     \"\"\"Return the canonical path of the specified filename, eliminating any\n\u001b[1;32m    393\u001b[0m symbolic links encountered in the path.\"\"\"\n\u001b[0;32m--> 394\u001b[0;31m     \u001b[0mfilename\u001b[0m \u001b[0;34m=\u001b[0m \u001b[0mos\u001b[0m\u001b[0;34m.\u001b[0m\u001b[0mfspath\u001b[0m\u001b[0;34m(\u001b[0m\u001b[0mfilename\u001b[0m\u001b[0;34m)\u001b[0m\u001b[0;34m\u001b[0m\u001b[0;34m\u001b[0m\u001b[0m\n\u001b[0m\u001b[1;32m    395\u001b[0m     \u001b[0mpath\u001b[0m\u001b[0;34m,\u001b[0m \u001b[0mok\u001b[0m \u001b[0;34m=\u001b[0m \u001b[0m_joinrealpath\u001b[0m\u001b[0;34m(\u001b[0m\u001b[0mfilename\u001b[0m\u001b[0;34m[\u001b[0m\u001b[0;34m:\u001b[0m\u001b[0;36m0\u001b[0m\u001b[0;34m]\u001b[0m\u001b[0;34m,\u001b[0m \u001b[0mfilename\u001b[0m\u001b[0;34m,\u001b[0m \u001b[0;34m{\u001b[0m\u001b[0;34m}\u001b[0m\u001b[0;34m)\u001b[0m\u001b[0;34m\u001b[0m\u001b[0;34m\u001b[0m\u001b[0m\n\u001b[1;32m    396\u001b[0m     \u001b[0;32mreturn\u001b[0m \u001b[0mabspath\u001b[0m\u001b[0;34m(\u001b[0m\u001b[0mpath\u001b[0m\u001b[0;34m)\u001b[0m\u001b[0;34m\u001b[0m\u001b[0;34m\u001b[0m\u001b[0m\n",
      "\u001b[0;31mTypeError\u001b[0m: expected str, bytes or os.PathLike object, not NoneType"
     ]
    }
   ],
   "source": [
    "\n",
    "import pymatlab\n",
    "session = pymatlab.session_factory(pth)"
   ]
  },
  {
   "cell_type": "code",
   "execution_count": 56,
   "metadata": {},
   "outputs": [
    {
     "name": "stdout",
     "output_type": "stream",
     "text": [
      "ENTimbreTJ.mat           en_resynth.m             msd_sql.m\r\n",
      "HDF5_Song_File_Reader.m  en_song2track.m          msd_sql_full.m\r\n",
      "chrompeaks.m             fft2jbarkmx.m            p_json.m\r\n",
      "chromsynth2.m            findAllFiles.m           resample_mx.m\r\n",
      "colinterp.m              hdf5_to_matfile.m        tutorial_dpwe.m\r\n",
      "en_analyze.m             ispecgram.m              urlpostdata.m\r\n",
      "en_analyze_msd.m         msd_beatchroma.m         urlreadpost.m\r\n",
      "en_mfcc.m                msd_load_preview.m       urlreadwrite.m\r\n",
      "en_recons_env.m          msd_pathname.m\r\n"
     ]
    }
   ],
   "source": [
    "ls MSongsDB/MatlabSrc/chromsynth2.m  "
   ]
  },
  {
   "cell_type": "code",
   "execution_count": 60,
   "metadata": {},
   "outputs": [],
   "source": [
    "import scipy.io"
   ]
  },
  {
   "cell_type": "code",
   "execution_count": 62,
   "metadata": {},
   "outputs": [
    {
     "ename": "FileNotFoundError",
     "evalue": "[Errno 2] No such file or directory: '/SongsDB/MatlabSrc/chromsynth2.m.mat'",
     "output_type": "error",
     "traceback": [
      "\u001b[0;31m-----------------------------------------------------------------------\u001b[0m",
      "\u001b[0;31mFileNotFoundError\u001b[0m                     Traceback (most recent call last)",
      "\u001b[0;32m~/anaconda3/lib/python3.7/site-packages/scipy/io/matlab/mio.py\u001b[0m in \u001b[0;36m_open_file\u001b[0;34m(file_like, appendmat)\u001b[0m\n\u001b[1;32m     30\u001b[0m     \u001b[0;32mtry\u001b[0m\u001b[0;34m:\u001b[0m\u001b[0;34m\u001b[0m\u001b[0;34m\u001b[0m\u001b[0m\n\u001b[0;32m---> 31\u001b[0;31m         \u001b[0;32mreturn\u001b[0m \u001b[0mopen\u001b[0m\u001b[0;34m(\u001b[0m\u001b[0mfile_like\u001b[0m\u001b[0;34m,\u001b[0m \u001b[0;34m'rb'\u001b[0m\u001b[0;34m)\u001b[0m\u001b[0;34m,\u001b[0m \u001b[0;32mTrue\u001b[0m\u001b[0;34m\u001b[0m\u001b[0;34m\u001b[0m\u001b[0m\n\u001b[0m\u001b[1;32m     32\u001b[0m     \u001b[0;32mexcept\u001b[0m \u001b[0mIOError\u001b[0m\u001b[0;34m:\u001b[0m\u001b[0;34m\u001b[0m\u001b[0;34m\u001b[0m\u001b[0m\n",
      "\u001b[0;31mFileNotFoundError\u001b[0m: [Errno 2] No such file or directory: '/SongsDB/MatlabSrc/chromsynth2.m'",
      "\nDuring handling of the above exception, another exception occurred:\n",
      "\u001b[0;31mFileNotFoundError\u001b[0m                     Traceback (most recent call last)",
      "\u001b[0;32m<ipython-input-62-b4dd7dc3c629>\u001b[0m in \u001b[0;36m<module>\u001b[0;34m\u001b[0m\n\u001b[1;32m      1\u001b[0m \u001b[0mpth\u001b[0m \u001b[0;34m=\u001b[0m \u001b[0;34m'/SongsDB/MatlabSrc/chromsynth2.m'\u001b[0m\u001b[0;34m\u001b[0m\u001b[0;34m\u001b[0m\u001b[0m\n\u001b[0;32m----> 2\u001b[0;31m \u001b[0mmat\u001b[0m \u001b[0;34m=\u001b[0m \u001b[0mscipy\u001b[0m\u001b[0;34m.\u001b[0m\u001b[0mio\u001b[0m\u001b[0;34m.\u001b[0m\u001b[0mloadmat\u001b[0m\u001b[0;34m(\u001b[0m\u001b[0mpth\u001b[0m\u001b[0;34m)\u001b[0m\u001b[0;34m\u001b[0m\u001b[0;34m\u001b[0m\u001b[0m\n\u001b[0m",
      "\u001b[0;32m~/anaconda3/lib/python3.7/site-packages/scipy/io/matlab/mio.py\u001b[0m in \u001b[0;36mloadmat\u001b[0;34m(file_name, mdict, appendmat, **kwargs)\u001b[0m\n\u001b[1;32m    205\u001b[0m     \"\"\"\n\u001b[1;32m    206\u001b[0m     \u001b[0mvariable_names\u001b[0m \u001b[0;34m=\u001b[0m \u001b[0mkwargs\u001b[0m\u001b[0;34m.\u001b[0m\u001b[0mpop\u001b[0m\u001b[0;34m(\u001b[0m\u001b[0;34m'variable_names'\u001b[0m\u001b[0;34m,\u001b[0m \u001b[0;32mNone\u001b[0m\u001b[0;34m)\u001b[0m\u001b[0;34m\u001b[0m\u001b[0;34m\u001b[0m\u001b[0m\n\u001b[0;32m--> 207\u001b[0;31m     \u001b[0mMR\u001b[0m\u001b[0;34m,\u001b[0m \u001b[0mfile_opened\u001b[0m \u001b[0;34m=\u001b[0m \u001b[0mmat_reader_factory\u001b[0m\u001b[0;34m(\u001b[0m\u001b[0mfile_name\u001b[0m\u001b[0;34m,\u001b[0m \u001b[0mappendmat\u001b[0m\u001b[0;34m,\u001b[0m \u001b[0;34m**\u001b[0m\u001b[0mkwargs\u001b[0m\u001b[0;34m)\u001b[0m\u001b[0;34m\u001b[0m\u001b[0;34m\u001b[0m\u001b[0m\n\u001b[0m\u001b[1;32m    208\u001b[0m     \u001b[0mmatfile_dict\u001b[0m \u001b[0;34m=\u001b[0m \u001b[0mMR\u001b[0m\u001b[0;34m.\u001b[0m\u001b[0mget_variables\u001b[0m\u001b[0;34m(\u001b[0m\u001b[0mvariable_names\u001b[0m\u001b[0;34m)\u001b[0m\u001b[0;34m\u001b[0m\u001b[0;34m\u001b[0m\u001b[0m\n\u001b[1;32m    209\u001b[0m     \u001b[0;32mif\u001b[0m \u001b[0mmdict\u001b[0m \u001b[0;32mis\u001b[0m \u001b[0;32mnot\u001b[0m \u001b[0;32mNone\u001b[0m\u001b[0;34m:\u001b[0m\u001b[0;34m\u001b[0m\u001b[0;34m\u001b[0m\u001b[0m\n",
      "\u001b[0;32m~/anaconda3/lib/python3.7/site-packages/scipy/io/matlab/mio.py\u001b[0m in \u001b[0;36mmat_reader_factory\u001b[0;34m(file_name, appendmat, **kwargs)\u001b[0m\n\u001b[1;32m     60\u001b[0m \u001b[0;34m\u001b[0m\u001b[0m\n\u001b[1;32m     61\u001b[0m     \"\"\"\n\u001b[0;32m---> 62\u001b[0;31m     \u001b[0mbyte_stream\u001b[0m\u001b[0;34m,\u001b[0m \u001b[0mfile_opened\u001b[0m \u001b[0;34m=\u001b[0m \u001b[0m_open_file\u001b[0m\u001b[0;34m(\u001b[0m\u001b[0mfile_name\u001b[0m\u001b[0;34m,\u001b[0m \u001b[0mappendmat\u001b[0m\u001b[0;34m)\u001b[0m\u001b[0;34m\u001b[0m\u001b[0;34m\u001b[0m\u001b[0m\n\u001b[0m\u001b[1;32m     63\u001b[0m     \u001b[0mmjv\u001b[0m\u001b[0;34m,\u001b[0m \u001b[0mmnv\u001b[0m \u001b[0;34m=\u001b[0m \u001b[0mget_matfile_version\u001b[0m\u001b[0;34m(\u001b[0m\u001b[0mbyte_stream\u001b[0m\u001b[0;34m)\u001b[0m\u001b[0;34m\u001b[0m\u001b[0;34m\u001b[0m\u001b[0m\n\u001b[1;32m     64\u001b[0m     \u001b[0;32mif\u001b[0m \u001b[0mmjv\u001b[0m \u001b[0;34m==\u001b[0m \u001b[0;36m0\u001b[0m\u001b[0;34m:\u001b[0m\u001b[0;34m\u001b[0m\u001b[0;34m\u001b[0m\u001b[0m\n",
      "\u001b[0;32m~/anaconda3/lib/python3.7/site-packages/scipy/io/matlab/mio.py\u001b[0m in \u001b[0;36m_open_file\u001b[0;34m(file_like, appendmat)\u001b[0m\n\u001b[1;32m     35\u001b[0m             \u001b[0;32mif\u001b[0m \u001b[0mappendmat\u001b[0m \u001b[0;32mand\u001b[0m \u001b[0;32mnot\u001b[0m \u001b[0mfile_like\u001b[0m\u001b[0;34m.\u001b[0m\u001b[0mendswith\u001b[0m\u001b[0;34m(\u001b[0m\u001b[0;34m'.mat'\u001b[0m\u001b[0;34m)\u001b[0m\u001b[0;34m:\u001b[0m\u001b[0;34m\u001b[0m\u001b[0;34m\u001b[0m\u001b[0m\n\u001b[1;32m     36\u001b[0m                 \u001b[0mfile_like\u001b[0m \u001b[0;34m+=\u001b[0m \u001b[0;34m'.mat'\u001b[0m\u001b[0;34m\u001b[0m\u001b[0;34m\u001b[0m\u001b[0m\n\u001b[0;32m---> 37\u001b[0;31m             \u001b[0;32mreturn\u001b[0m \u001b[0mopen\u001b[0m\u001b[0;34m(\u001b[0m\u001b[0mfile_like\u001b[0m\u001b[0;34m,\u001b[0m \u001b[0;34m'rb'\u001b[0m\u001b[0;34m)\u001b[0m\u001b[0;34m,\u001b[0m \u001b[0;32mTrue\u001b[0m\u001b[0;34m\u001b[0m\u001b[0;34m\u001b[0m\u001b[0m\n\u001b[0m\u001b[1;32m     38\u001b[0m         \u001b[0;32melse\u001b[0m\u001b[0;34m:\u001b[0m\u001b[0;34m\u001b[0m\u001b[0;34m\u001b[0m\u001b[0m\n\u001b[1;32m     39\u001b[0m             \u001b[0;32mraise\u001b[0m \u001b[0mIOError\u001b[0m\u001b[0;34m(\u001b[0m\u001b[0;34m'Reader needs file name or open file-like object'\u001b[0m\u001b[0;34m)\u001b[0m\u001b[0;34m\u001b[0m\u001b[0;34m\u001b[0m\u001b[0m\n",
      "\u001b[0;31mFileNotFoundError\u001b[0m: [Errno 2] No such file or directory: '/SongsDB/MatlabSrc/chromsynth2.m.mat'"
     ]
    }
   ],
   "source": [
    "pth = '/SongsDB/MatlabSrc/chromsynth2.'\n",
    "mat = scipy.io.loadmat(pth)\n"
   ]
  },
  {
   "cell_type": "code",
   "execution_count": 64,
   "metadata": {},
   "outputs": [],
   "source": [
    "import matlab.engine\n",
    "eng = matlab.engine.start_matlab()"
   ]
  },
  {
   "cell_type": "code",
   "execution_count": null,
   "metadata": {},
   "outputs": [],
   "source": []
  }
 ],
 "metadata": {
  "kernelspec": {
   "display_name": "Python 3",
   "language": "python",
   "name": "python3"
  },
  "language_info": {
   "codemirror_mode": {
    "name": "ipython",
    "version": 3
   },
   "file_extension": ".py",
   "mimetype": "text/x-python",
   "name": "python",
   "nbconvert_exporter": "python",
   "pygments_lexer": "ipython3",
   "version": "3.7.3"
  }
 },
 "nbformat": 4,
 "nbformat_minor": 2
}
